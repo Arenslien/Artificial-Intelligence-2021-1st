{
 "cells": [
  {
   "cell_type": "code",
   "execution_count": 2,
   "metadata": {},
   "outputs": [
    {
     "name": "stdout",
     "output_type": "stream",
     "text": [
      "마일리지: 2,000\n",
      "이코인: 0\n"
     ]
    }
   ],
   "source": [
    "import requests\n",
    "from bs4 import BeautifulSoup\n",
    "from urllib.parse import urljoin\n",
    "\n",
    "USER = \"ibo703\"\n",
    "PASS = \"if(Ark1==right)\"\n",
    "\n",
    "session = requests.session()\n",
    "\n",
    "login_info = {\n",
    "    \"m_id\": USER,\n",
    "    \"m_passwd\": PASS\n",
    "}\n",
    "\n",
    "url_login = \"https://www.hanbit.co.kr/member/login_proc.php\"\n",
    "res = session.post(url_login, data = login_info)\n",
    "res.raise_for_status()\n",
    "\n",
    "url_mypage = \"https://www.hanbit.co.kr/myhanbit/myhanbit.html\"\n",
    "res = session.get(url_mypage)\n",
    "res.raise_for_status()\n",
    "\n",
    "soup = BeautifulSoup(res.text, \"html.parser\")\n",
    "mileage = soup.select_one(\"div.sm_mymileage > dl.mileage_section1 > dd > span\").string\n",
    "ecoin = soup.select_one(\"div.sm_mymileage > dl.mileage_section2 > dd > span\").string\n",
    "\n",
    "print(\"마일리지: \" + mileage)\n",
    "print(\"이코인: \" + ecoin)"
   ]
  },
  {
   "cell_type": "code",
   "execution_count": null,
   "metadata": {},
   "outputs": [],
   "source": []
  }
 ],
 "metadata": {
  "kernelspec": {
   "display_name": "Python 3",
   "language": "python",
   "name": "python3"
  },
  "language_info": {
   "codemirror_mode": {
    "name": "ipython",
    "version": 3
   },
   "file_extension": ".py",
   "mimetype": "text/x-python",
   "name": "python",
   "nbconvert_exporter": "python",
   "pygments_lexer": "ipython3",
   "version": "3.8.5"
  }
 },
 "nbformat": 4,
 "nbformat_minor": 4
}

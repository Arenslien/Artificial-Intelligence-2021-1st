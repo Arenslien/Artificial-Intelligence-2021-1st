{
 "cells": [
  {
   "cell_type": "code",
   "execution_count": null,
   "metadata": {},
   "outputs": [],
   "source": [
    "# Today word\n",
    "# profile: 프로필\n",
    "# temporal : 시간의\n",
    "# spatial : 공간의\n",
    "# Curse of dimensionality: 차원의 저주 *****\n",
    "# resolution : 해상도\n",
    "# Binary: 이진의 *****\n"
   ]
  }
 ],
 "metadata": {
  "kernelspec": {
   "display_name": "Python 3",
   "language": "python",
   "name": "python3"
  },
  "language_info": {
   "codemirror_mode": {
    "name": "ipython",
    "version": 3
   },
   "file_extension": ".py",
   "mimetype": "text/x-python",
   "name": "python",
   "nbconvert_exporter": "python",
   "pygments_lexer": "ipython3",
   "version": "3.8.5"
  }
 },
 "nbformat": 4,
 "nbformat_minor": 4
}

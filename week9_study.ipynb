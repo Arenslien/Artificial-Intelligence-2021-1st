{
 "metadata": {
  "language_info": {
   "codemirror_mode": {
    "name": "ipython",
    "version": 3
   },
   "file_extension": ".py",
   "mimetype": "text/x-python",
   "name": "python",
   "nbconvert_exporter": "python",
   "pygments_lexer": "ipython3",
   "version": "3.9.2"
  },
  "orig_nbformat": 2,
  "kernelspec": {
   "name": "python392jvsc74a57bd063fd5069d213b44bf678585dea6b12cceca9941eaf7f819626cde1f2670de90d",
   "display_name": "Python 3.9.2 64-bit"
  },
  "metadata": {
   "interpreter": {
    "hash": "63fd5069d213b44bf678585dea6b12cceca9941eaf7f819626cde1f2670de90d"
   }
  }
 },
 "nbformat": 4,
 "nbformat_minor": 2,
 "cells": [
  {
   "cell_type": "code",
   "execution_count": 1,
   "metadata": {},
   "outputs": [
    {
     "output_type": "stream",
     "name": "stdout",
     "text": [
      "showing info https://raw.githubusercontent.com/nltk/nltk_data/gh-pages/index.xml\n"
     ]
    },
    {
     "output_type": "execute_result",
     "data": {
      "text/plain": [
       "True"
      ]
     },
     "metadata": {},
     "execution_count": 1
    }
   ],
   "source": [
    "# week9\n",
    "import nltk\n",
    "nltk.download()"
   ]
  },
  {
   "cell_type": "code",
   "execution_count": 5,
   "metadata": {},
   "outputs": [
    {
     "output_type": "stream",
     "name": "stdout",
     "text": [
      "python\npython\npython\npython\npythonli\n"
     ]
    }
   ],
   "source": [
    "from nltk.stem import PorterStemmer\n",
    "\n",
    "ps = PorterStemmer() # 인스턴스 생성\n",
    "\n",
    "example_words = [\"python\", \"pythoner\", \"pythoning\", \"pythoned\", \"pythonly\"]\n",
    "for words in example_words:\n",
    "    print(ps.stem(words))"
   ]
  },
  {
   "cell_type": "code",
   "execution_count": 6,
   "metadata": {},
   "outputs": [
    {
     "output_type": "stream",
     "name": "stdout",
     "text": [
      "['It', 'is', 'important', 'to', 'be', 'very', 'pythonly', 'while', 'you', 'ar', 'pythoning', 'with', 'python']\nit\nis\nimport\nto\nbe\nveri\npythonli\nwhile\nyou\nar\npython\nwith\npython\n"
     ]
    }
   ],
   "source": [
    "from nltk.stem import PorterStemmer\n",
    "from nltk.tokenize import word_tokenize\n",
    "\n",
    "new_text = \"It is important to be very pythonly while you ar pythoning with python\"\n",
    "\n",
    "words = word_tokenize(new_text)\n",
    "print(words)\n",
    "\n",
    "for word in words:\n",
    "    print(ps.stem(word))"
   ]
  },
  {
   "cell_type": "code",
   "execution_count": 10,
   "metadata": {},
   "outputs": [
    {
     "output_type": "stream",
     "name": "stdout",
     "text": [
      "['.', 'like', 'swim', 'swimmer']\n[[1 1 1 1]]\n[[2 0 1 1]]\n"
     ]
    }
   ],
   "source": [
    "import nltk\n",
    "from nltk.tokenize import word_tokenize\n",
    "from nltk.stem import PorterStemmer\n",
    "from sklearn.feature_extraction.text import CountVectorizer\n",
    "\n",
    "ps = PorterStemmer()\n",
    "\n",
    "def tokenize(text):\n",
    "    tokens = word_tokenize(text)\n",
    "    stemmed = []\n",
    "    for words in tokens:\n",
    "        stemmed.append(ps.stem(words))\n",
    "    return stemmed\n",
    "\n",
    "vect = CountVectorizer(tokenizer = tokenize, stop_words = \"english\")\n",
    "\n",
    "vect.fit([\"The swimmer likes swimming.\"])\n",
    "\n",
    "sentence1 = vect.transform([\"The swimmer likes swimming.\"])\n",
    "sentence2 = vect.transform([\"The swimmer swims. .\"])\n",
    "\n",
    "print(vect.get_feature_names())\n",
    "print(sentence1.toarray())\n",
    "print(sentence2.toarray())\n",
    "\n",
    "\n",
    "#Stemming을 통해 차원 feature을 줄일 수 있음. "
   ]
  },
  {
   "cell_type": "code",
   "execution_count": 12,
   "metadata": {},
   "outputs": [],
   "source": [
    "import re\n",
    "\n",
    "#subsitution: 대체\n",
    "\n",
    "# Use regular expression to do a find-and-replace\n",
    "review_text = \"test sentence\"\n",
    "review_text = re.sub(\"[^a-zA-Z]\", \" \", review_text)\n",
    "\n",
    "# preprocessor "
   ]
  },
  {
   "cell_type": "code",
   "execution_count": null,
   "metadata": {},
   "outputs": [],
   "source": [
    "# FULL CODE\n",
    "\n",
    "from sklearn.datasets import load_files\n",
    "from sklearn.feature_extraction.text import CountVectorizer\n",
    "from sklearn.metrics import accuracy_score\n",
    "from sklearn.linear_model import LogisticRegression\n",
    "import nltk\n",
    "from nltk.stem import PorterStemmer\n",
    "from nltk import word_tokenize\n",
    "import numpy as np\n",
    "import re\n",
    "\n",
    "reviews_train = load_files(\"\")\n",
    "text_train, y_train = reviews_train.data, reviews_train.target\n",
    "\n",
    "\n",
    "reviews_test = load_files(\"\")\n",
    "text_test, y_test = reviews_test.data, reviews_test.target\n",
    "print(\"테스트 데이터의 문서 수: {}\".format(len(text_test)))\n",
    "print(\"클래스별 샘플 수 (테스트 데이터): {}\".format(np.bincount(y_test)))\n",
    "\n",
    "text_train = [doc.replace(b\"<br /n>\", b\" \") for doc in text_train]\n",
    "text_test = [doc.replace(b\"<br /n>\", b\" \") for doc in text_test]\n",
    "\n",
    "\n",
    "ps = PorterStemmer()\n",
    "\n",
    "def tokenize(text):\n",
    "    tokens = word_tokenize(text)\n",
    "    stemmed = []\n",
    "    for word in tokens:\n",
    "        stemmed.append(ps.stem(word))\n",
    "    return stemmed\n",
    "\n",
    "\n",
    "vect = CountVectorizer(tokenizer = tokenize, stop_wrods = \"english\").fit(text_train)\n",
    "X_train = vect.transform(text_train)\n",
    "X_test = vect.transform(text_test)\n",
    "\n",
    "# logistic regression 사용\n",
    "clf = LogisticRegression()\n",
    "clf.fit(X_train, y_train)\n",
    "pre = clf.predict(X_test)\n",
    "\n",
    "# 정답률 구하기\n",
    "ac_score = accuracy_score(y_test, pre)\n",
    "print(\"정답률 =\", ac_score)\n",
    "\n",
    "\n",
    "\n",
    "# accuracy: 정확도(율), 정확한 정도 ***\n",
    "# derive: 유도하다\n",
    "# naive: 순진한, 단순한(멍청한)"
   ]
  },
  {
   "cell_type": "code",
   "execution_count": null,
   "metadata": {},
   "outputs": [],
   "source": []
  }
 ]
}
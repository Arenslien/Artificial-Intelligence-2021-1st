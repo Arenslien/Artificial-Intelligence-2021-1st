{
 "metadata": {
  "language_info": {
   "codemirror_mode": {
    "name": "ipython",
    "version": 3
   },
   "file_extension": ".py",
   "mimetype": "text/x-python",
   "name": "python",
   "nbconvert_exporter": "python",
   "pygments_lexer": "ipython3",
   "version": "3.9.2"
  },
  "orig_nbformat": 2,
  "kernelspec": {
   "name": "python392jvsc74a57bd063fd5069d213b44bf678585dea6b12cceca9941eaf7f819626cde1f2670de90d",
   "display_name": "Python 3.9.2 64-bit"
  },
  "metadata": {
   "interpreter": {
    "hash": "63fd5069d213b44bf678585dea6b12cceca9941eaf7f819626cde1f2670de90d"
   }
  }
 },
 "nbformat": 4,
 "nbformat_minor": 2,
 "cells": [
  {
   "cell_type": "code",
   "execution_count": 16,
   "metadata": {},
   "outputs": [
    {
     "output_type": "stream",
     "name": "stdout",
     "text": [
      "name\nd\n"
     ]
    }
   ],
   "source": [
    "print(\"My name is Arenslien\"[3:7])\n",
    "print(\"Hello World\"[-1:])"
   ]
  },
  {
   "cell_type": "code",
   "execution_count": 19,
   "metadata": {},
   "outputs": [
    {
     "output_type": "stream",
     "name": "stdout",
     "text": [
      "hello 10\nhello hi\nMy name is hi and my age is 10\n"
     ]
    }
   ],
   "source": [
    "print(\"hello %d\" %10)\n",
    "print(\"hello %s\" %\"hi\")\n",
    "print(\"My name is %s and my age is %d\" %(\"hi\", 10))"
   ]
  },
  {
   "cell_type": "code",
   "execution_count": 30,
   "metadata": {},
   "outputs": [
    {
     "output_type": "stream",
     "name": "stdout",
     "text": [
      "2\n-1\na|b|c|d|e|f\n     a\nMy name is Arenslien and my age is hi\n"
     ]
    }
   ],
   "source": [
    "str1 = \"hobby\"\n",
    "print(str1.count('b'))\n",
    "print(str1.find('a'))\n",
    "\n",
    "\n",
    "print(\"|\".join(\"abcdef\"))\n",
    "print(\"     a \".rstrip())\n",
    "\n",
    "# formatting\n",
    "print(\"My name is {} and my age is {}\".format(\"Arenslien\", \"hi\"))"
   ]
  },
  {
   "cell_type": "code",
   "execution_count": 33,
   "metadata": {},
   "outputs": [],
   "source": [
    "f = open(\"new.txt\", \"w\")\n",
    "for i in range(1, 11):\n",
    "    data = \"{}번째 줄입니다.\\n\".format(i)\n",
    "    f.write(data)\n",
    "f.close()\n",
    "\n",
    "with open(\"new1.txt\", \"w\") as f:\n",
    "    for i in range(1, 11): f.write(\"{} line\".format(i))\n",
    "\n"
   ]
  },
  {
   "cell_type": "code",
   "execution_count": 42,
   "metadata": {},
   "outputs": [
    {
     "output_type": "stream",
     "name": "stdout",
     "text": [
      "[1 2 3]\n<class 'numpy.ndarray'>\n(3,)\n1 3\n"
     ]
    }
   ],
   "source": [
    "import numpy as np\n",
    "\n",
    "a = np.array([1, 2, 3])\n",
    "print(a)\n",
    "print(type(a))\n",
    "print(a.shape)\n",
    "print(a[0], a[2])"
   ]
  },
  {
   "cell_type": "code",
   "execution_count": null,
   "metadata": {},
   "outputs": [],
   "source": []
  }
 ]
}
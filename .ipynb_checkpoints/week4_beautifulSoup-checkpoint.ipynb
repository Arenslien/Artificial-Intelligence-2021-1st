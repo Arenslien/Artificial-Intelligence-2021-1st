{
 "cells": [
  {
   "cell_type": "raw",
   "metadata": {},
   "source": []
  },
  {
   "cell_type": "code",
   "execution_count": 4,
   "metadata": {},
   "outputs": [],
   "source": [
    "from bs4 import BeautifulSoup"
   ]
  },
  {
   "cell_type": "code",
   "execution_count": 5,
   "metadata": {},
   "outputs": [],
   "source": [
    "html = \"\"\"\n",
    "<!DOCTYPE html>\n",
    "<html>\n",
    "    <head>\n",
    "    \n",
    "    </head>\n",
    "    <body>\n",
    "        <h1> 스크랩핑이란? </h1>\n",
    "        <p>첫 번째 p 태그 안에 속한 문자열입니다.</p>\n",
    "        <p>두 번째 p 태그 안에 속한 문자열입니다.</p>\n",
    "    </body>\n",
    "</html>\n",
    "\"\"\""
   ]
  },
  {
   "cell_type": "code",
   "execution_count": 13,
   "metadata": {},
   "outputs": [],
   "source": [
    "soup = BeautifulSoup(html, \"html.parser\")\n",
    "\n",
    "h1 = soup.html.body.h1\n",
    "\n",
    "p1 = soup.html.body.p\n",
    "\n",
    "p2 = p1.next_sibling.next_sibling"
   ]
  },
  {
   "cell_type": "code",
   "execution_count": 14,
   "metadata": {},
   "outputs": [
    {
     "name": "stdout",
     "output_type": "stream",
     "text": [
      "h1 =  스크랩핑이란? \n",
      "p1 = 첫 번째 p 태그 안에 속한 문자열입니다.\n",
      "p2 = 두 번째 p 태그 안에 속한 문자열입니다.\n"
     ]
    }
   ],
   "source": [
    "print(\"h1 =\", h1.string)\n",
    "print(\"p1 =\", p1.string)\n",
    "print(\"p2 =\", p2.string)"
   ]
  },
  {
   "cell_type": "code",
   "execution_count": 16,
   "metadata": {},
   "outputs": [
    {
     "name": "stdout",
     "output_type": "stream",
     "text": [
      "title =  스크랩핑이란? \n",
      "p = <p>첫 번째 p 태그 안에 속한 문자열입니다.</p>\n"
     ]
    }
   ],
   "source": [
    "# Finding an element\n",
    "\n",
    "title = soup.find(\"h1\")\n",
    "p = soup.find(\"p\")\n",
    "\n",
    "print(\"title =\", title.string)\n",
    "print(\"p =\", p)"
   ]
  },
  {
   "cell_type": "code",
   "execution_count": 19,
   "metadata": {},
   "outputs": [
    {
     "name": "stdout",
     "output_type": "stream",
     "text": [
      "all_p = [<p>첫 번째 p 태그 안에 속한 문자열입니다.</p>, <p>두 번째 p 태그 안에 속한 문자열입니다.</p>]\n",
      "p: 첫 번째 p 태그 안에 속한 문자열입니다.\n",
      "p: 두 번째 p 태그 안에 속한 문자열입니다.\n"
     ]
    }
   ],
   "source": [
    "# Finding all element\n",
    "\n",
    "all_p = soup.find_all(\"p\")\n",
    "print(\"all_p =\", all_p)\n",
    "\n",
    "for p in all_p:\n",
    "    print(\"p:\", p.string)"
   ]
  },
  {
   "cell_type": "code",
   "execution_count": 24,
   "metadata": {},
   "outputs": [
    {
     "name": "stdout",
     "output_type": "stream",
     "text": [
      "None > https://www.naver.com/\n",
      "None > https://www.google.com\n"
     ]
    }
   ],
   "source": [
    "# Finding an element related url\n",
    "\n",
    "html2 = \"\"\"\n",
    "<!DOCTYPE html>\n",
    "<html>\n",
    "    <head>\n",
    "    \n",
    "    </head>\n",
    "    <body>\n",
    "        <ul>\n",
    "            <li><a href=\"https://www.naver.com/\"></a>naver</li>\n",
    "            <li><a href=\"https://www.google.com\"></a>google</li>\n",
    "        </ul>\n",
    "    </body>\n",
    "</html>\n",
    "\"\"\"\n",
    "\n",
    "soup2 = BeautifulSoup(html2, 'html.parser')\n",
    "\n",
    "links = soup2.find_all(\"a\")\n",
    "\n",
    "for link in links:\n",
    "    text = link.string\n",
    "    href = link.attrs['href']\n",
    "    print(text, '>', href)"
   ]
  },
  {
   "cell_type": "code",
   "execution_count": 2,
   "metadata": {},
   "outputs": [
    {
     "name": "stdout",
     "output_type": "stream",
     "text": [
      "기상청 육상 중기예보\n",
      "○ (하늘상태) 이번 예보기간 전국이 대체로 맑겠으나, 5일(월)~6일(화), 11일(일)~12일(월)은 가끔 구름많겠고, 강원영동은 8일(목)에 구름많겠습니다. <br />○ (기온) 이번 예보기간 아침 기온은 1~11도, 낮 기온은 14~21도로 오늘(2일, 아침최저기온 8~14도, 낮최고기온 18~26도)보다 낮겠습니다. <br />          한편, 5일(월) 중부지방의 아침 기온은 5도 내외로 쌀쌀하겠으니, 환절기 건강관리에 유의하기 바랍니다.<br />○ (해상) 5일(월) 동해남부해상과 남해동부해상에서 물결이 2.0~4.0m로 매우 높게 일겠습니다.\n"
     ]
    }
   ],
   "source": [
    "# BeautifulSoup 사용 웹페이지 추출 및 출력\n",
    "from bs4 import BeautifulSoup\n",
    "import urllib.request as req\n",
    "\n",
    "url = \"http://www.weather.go.kr/weather/forecast/mid-term-rss3.jsp\"\n",
    "\n",
    "\n",
    "res = req.urlopen(url)\n",
    "\n",
    "soup = BeautifulSoup(res, \"html.parser\")\n",
    "\n",
    "title = soup.find(\"title\").string\n",
    "wf = soup.find(\"wf\").string\n",
    "\n",
    "print(title)\n",
    "print(wf)"
   ]
  },
  {
   "cell_type": "code",
   "execution_count": null,
   "metadata": {},
   "outputs": [],
   "source": []
  }
 ],
 "metadata": {
  "kernelspec": {
   "display_name": "Python 3",
   "language": "python",
   "name": "python3"
  },
  "language_info": {
   "codemirror_mode": {
    "name": "ipython",
    "version": 3
   },
   "file_extension": ".py",
   "mimetype": "text/x-python",
   "name": "python",
   "nbconvert_exporter": "python",
   "pygments_lexer": "ipython3",
   "version": "3.8.5"
  }
 },
 "nbformat": 4,
 "nbformat_minor": 4
}

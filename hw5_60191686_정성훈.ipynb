{
 "cells": [
  {
   "cell_type": "code",
   "execution_count": 1,
   "metadata": {},
   "outputs": [
    {
     "output_type": "stream",
     "name": "stdout",
     "text": [
      "1-a: [0.0, 0.125, 0.25, 0.5, 1.0]\n1-b: [-1.06066, -0.707107, -0.353553, 0.353553, 1.767767]\n"
     ]
    }
   ],
   "source": [
    "# Artificial Intelligence Homework 5\n",
    "\n",
    "# 1. Use these methods to normalize the following group of data\n",
    "data = [200, 300, 400, 600, 1000]\n",
    "\n",
    "# 1 - a\n",
    "new_min = 0\n",
    "new_max = 1\n",
    "\n",
    "result = list(map(lambda x:(x-200)/(1000-200), data))\n",
    "print('1-a:', result)\n",
    "\n",
    "# 1 - b\n",
    "import math\n",
    "\n",
    "# Calculating Mean\n",
    "sum = 0\n",
    "for i in data:\n",
    "    sum += i\n",
    "mean = sum/5\n",
    "\n",
    "# Calculating Standard Deviation\n",
    "squared_deviation = list(map(lambda x: (x-mean)*(x-mean),data))\n",
    "\n",
    "dev_sum = 0\n",
    "for i in squared_deviation:\n",
    "    dev_sum += i\n",
    "stdev = math.sqrt(dev_sum/5)\n",
    "\n",
    "result2 = list(map(lambda x: round((x-mean)/stdev, 6), data))\n",
    "print('1-b:', result2)"
   ]
  },
  {
   "cell_type": "code",
   "execution_count": 2,
   "metadata": {},
   "outputs": [
    {
     "output_type": "stream",
     "name": "stdout",
     "text": [
      "2 - a\nnormalized age: [-0.255, -0.255, -0.247, -0.247, -0.22, -0.216, -0.203, -0.198, -0.196, -0.191, -0.187, -0.187, -0.183, -0.18, -0.178, -0.178, -0.174, -0.172]\n\nnormalized fat: [-0.274, -0.238, -0.278, -0.257, -0.228, -0.239, -0.236, -0.237, -0.228, -0.242, -0.204, -0.233, -0.224, -0.23, -0.222, -0.225, -0.207, -0.219]\n\n2 - b: -0.08953398857766803\ncovariance: -19169.14012345679\n상관 계수의 값이 음수이므로 negatively correlated하다.\n"
     ]
    }
   ],
   "source": [
    "# 2. Using the data for age and body fat given below, answer the following\n",
    "ages = [23, 23, 27, 27, 39, 41, 47, 49, 50, 52, 54, 54, 56, 57, 58, 58, 60, 61]\n",
    "fats = [9.5, 26.5, 7.8, 17.8, 31.4, 25.9, 27.4, 27.2, 31.2, 24.6, 42.5, 28.8, 33.4, 30.2, 34.1, 32.9, 41.2, 35.7]\n",
    "\n",
    "# 2 - a\n",
    "\n",
    "# Calculating Mean of age\n",
    "sum = 0\n",
    "for i in data:\n",
    "    sum += i\n",
    "mean_age = sum/len(ages)\n",
    "\n",
    "# Calculating Mean of fat\n",
    "sum = 0\n",
    "for i in data:\n",
    "    sum += i\n",
    "mean_fat = sum/len(fats)\n",
    "\n",
    "# Calculating Standard Deviation of age\n",
    "squared_deviation = list(map(lambda x: (x-mean)*(x-mean), ages))\n",
    "\n",
    "dev_sum = 0\n",
    "for i in squared_deviation:\n",
    "    dev_sum += i\n",
    "stdev_age = math.sqrt(dev_sum/len(ages))\n",
    "\n",
    "# Calculating Standard Deviation of fat\n",
    "squared_deviation = list(map(lambda x: (x-mean)*(x-mean), fats))\n",
    "\n",
    "dev_sum = 0\n",
    "for i in squared_deviation:\n",
    "    dev_sum += i\n",
    "stdev_fat = math.sqrt(dev_sum/len(fats))\n",
    "\n",
    "# Normalize age and fat\n",
    "normalized_age = list(map(lambda x: round((x-mean_age)/stdev_age, 3), ages))\n",
    "normalized_fat = list(map(lambda x: round((x-mean_fat)/stdev_fat, 3), fats))\n",
    "print('2 - a')\n",
    "print('normalized age:', normalized_age)\n",
    "print('\\nnormalized fat:', normalized_fat)\n",
    "\n",
    "# 2 - b\n",
    "\n",
    "# Calculating E(A . B)\n",
    "sum = 0\n",
    "for i in range(len(ages)):\n",
    "    sum = ages[i] * fats[i]\n",
    "e_age_fat = sum/len(ages)\n",
    "\n",
    "# Calculating Cov(Ages, Fats)\n",
    "cov_age_fat = e_age_fat - mean_age * mean_fat\n",
    "\n",
    "\n",
    "\n",
    "# Calculating Correlation coefficient\n",
    "correlation_coefficient = cov_age_fat/(stdev_age*stdev_fat)\n",
    "\n",
    "\n",
    "print('\\n2 - b:', correlation_coefficient)\n",
    "print('covariance:', cov_age_fat)\n",
    "print(\"상관 계수의 값이 음수이므로 negatively correlated하다.\")\n"
   ]
  },
  {
   "cell_type": "code",
   "execution_count": 3,
   "metadata": {},
   "outputs": [
    {
     "output_type": "stream",
     "name": "stdout",
     "text": [
      "3 - a: [[14.67, 14.67, 14.67], [33.0, 33.0, 33.0], [54.0, 54.0, 54.0], [78.0, 78.0, 78.0], [104.67, 104.67, 104.67], [138.33, 138.33, 138.33], [173.33, 173.33, 173.33], [213.67, 213.67, 213.67], [269.67, 269.67, 269.67]]\n\n3 - b: 사분위수를 이용하여 boxplot을 그린 후 Outliers를 찾아낸다.\n"
     ]
    }
   ],
   "source": [
    "# 3. Consider the following data (in increasing order) for the attribute age\n",
    "data = [13, 15, 16, 16, 19, 20, 20, 21, 22, 22, 25, 25, 25, 25, 30, 33, 33, 35, 35, 35, 35, 36, 40, 45, 46, 52, 70]\n",
    "\n",
    "# 3 - a\n",
    "result = []\n",
    "\n",
    "\n",
    "# Split data by bin depth\n",
    "splited_data = []\n",
    "depth = 3\n",
    "for i in range(len(data)//depth):\n",
    "    splited_data.append(data[i*depth:(i+1)*depth])\n",
    "\n",
    "# Smoothing by bin means\n",
    "sum = 0\n",
    "for i in splited_data:\n",
    "    for j in i:\n",
    "        sum += j\n",
    "    result.append([round(sum/depth, 2)] * depth)\n",
    "\n",
    "\n",
    "print('3 - a:', result)\n",
    "\n",
    "# 3 - b\n",
    "print('\\n3 - b: 사분위수를 이용하여 boxplot을 그린 후 Outliers를 찾아낸다.')"
   ]
  },
  {
   "cell_type": "code",
   "execution_count": 4,
   "metadata": {},
   "outputs": [
    {
     "output_type": "stream",
     "name": "stdout",
     "text": [
      "4 - a: [[5, 10, 11, 13], [15, 35, 50, 55], [72, 82, 204, 215]]\n4 - b: [[5, 10, 11, 13, 15, 35, 50, 55, 72], [82], [204, 215]]\n"
     ]
    }
   ],
   "source": [
    "# 4. Suppose a group of 12 sales price records has been sorted as follows\n",
    "data = [5, 10, 11, 13, 15, 35, 50, 55, 72, 82, 204, 215]\n",
    "\n",
    "# 4 - a\n",
    "result = []\n",
    "\n",
    "\n",
    "# Split data by bin equal depth\n",
    "splited_data = []\n",
    "interval = len(data)//3\n",
    "for i in range(len(data)//interval):\n",
    "    splited_data.append(data[i*interval:(i+1)*interval])\n",
    "\n",
    "print('4 - a:', splited_data)\n",
    "\n",
    "# 4 - b\n",
    "result = []\n",
    "\n",
    "# Calculating W = (MAX - MIN) / N\n",
    "w = (max(data) - min(data)) / 3\n",
    "\n",
    "new = []\n",
    "for i in data:\n",
    "    if(i < w + min(data)):\n",
    "        new.append(i)\n",
    "    else:\n",
    "        result.append(new)\n",
    "        new = []\n",
    "        new.append(i)\n",
    "        w = w + w\n",
    "result.append(new)\n",
    "\n",
    "print('4 - b:', result)\n",
    "        \n"
   ]
  },
  {
   "cell_type": "code",
   "execution_count": 5,
   "metadata": {},
   "outputs": [
    {
     "output_type": "error",
     "ename": "ModuleNotFoundError",
     "evalue": "No module named 'sklearn'",
     "traceback": [
      "\u001b[1;31m---------------------------------------------------------------------------\u001b[0m",
      "\u001b[1;31mModuleNotFoundError\u001b[0m                       Traceback (most recent call last)",
      "\u001b[1;32m<ipython-input-5-c89f9625e424>\u001b[0m in \u001b[0;36m<module>\u001b[1;34m\u001b[0m\n\u001b[0;32m      2\u001b[0m \u001b[1;33m\u001b[0m\u001b[0m\n\u001b[0;32m      3\u001b[0m \u001b[1;32mimport\u001b[0m \u001b[0mpandas\u001b[0m \u001b[1;32mas\u001b[0m \u001b[0mpd\u001b[0m\u001b[1;33m\u001b[0m\u001b[1;33m\u001b[0m\u001b[0m\n\u001b[1;32m----> 4\u001b[1;33m \u001b[1;32mfrom\u001b[0m \u001b[0msklearn\u001b[0m\u001b[1;33m.\u001b[0m\u001b[0mpreprocessing\u001b[0m \u001b[1;32mimport\u001b[0m \u001b[0mminmax_scale\u001b[0m\u001b[1;33m\u001b[0m\u001b[1;33m\u001b[0m\u001b[0m\n\u001b[0m\u001b[0;32m      5\u001b[0m \u001b[1;33m\u001b[0m\u001b[0m\n\u001b[0;32m      6\u001b[0m data = pd.DataFrame({\n",
      "\u001b[1;31mModuleNotFoundError\u001b[0m: No module named 'sklearn'"
     ]
    }
   ],
   "source": [
    "# 5\n",
    "\n",
    "import pandas as pd\n",
    "from sklearn.preprocessing import minmax_scale\n",
    "\n",
    "data = pd.DataFrame({\n",
    "    'A': [100, 0, 40, 80, 20],\n",
    "    'B': ['big', 'small', 'medium', 'big', 'small']\n",
    "})\n",
    "\n",
    "# 5 - a\n",
    "print('5 - a')\n",
    "print('normalized A:', minmax_scale(data.A.astype(float)))\n",
    "\n",
    "# 5 - b\n",
    "one_hot_encoding = pd.get_dummies(data.B)\n",
    "print('\\n5 - b:')\n",
    "print(one_hot_encoding)"
   ]
  },
  {
   "cell_type": "code",
   "execution_count": null,
   "metadata": {},
   "outputs": [],
   "source": []
  },
  {
   "cell_type": "code",
   "execution_count": null,
   "metadata": {},
   "outputs": [],
   "source": []
  },
  {
   "cell_type": "code",
   "execution_count": null,
   "metadata": {},
   "outputs": [],
   "source": []
  },
  {
   "cell_type": "code",
   "execution_count": null,
   "metadata": {},
   "outputs": [],
   "source": []
  },
  {
   "cell_type": "code",
   "execution_count": null,
   "metadata": {},
   "outputs": [],
   "source": []
  },
  {
   "cell_type": "code",
   "execution_count": null,
   "metadata": {},
   "outputs": [],
   "source": []
  },
  {
   "cell_type": "code",
   "execution_count": null,
   "metadata": {},
   "outputs": [],
   "source": []
  }
 ],
 "metadata": {
  "kernelspec": {
   "name": "python392jvsc74a57bd063fd5069d213b44bf678585dea6b12cceca9941eaf7f819626cde1f2670de90d",
   "display_name": "Python 3.9.2 64-bit"
  },
  "metadata": {
   "interpreter": {
    "hash": "63fd5069d213b44bf678585dea6b12cceca9941eaf7f819626cde1f2670de90d"
   }
  }
 },
 "nbformat": 4,
 "nbformat_minor": 4
}
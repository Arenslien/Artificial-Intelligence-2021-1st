{
 "metadata": {
  "language_info": {
   "codemirror_mode": {
    "name": "ipython",
    "version": 3
   },
   "file_extension": ".py",
   "mimetype": "text/x-python",
   "name": "python",
   "nbconvert_exporter": "python",
   "pygments_lexer": "ipython3",
   "version": "3.8.5"
  },
  "orig_nbformat": 2,
  "kernelspec": {
   "name": "python385jvsc74a57bd00aa1508244d449e99656e3ab392dca4b2e5c2d946023dbc84afefbe97798c81d",
   "display_name": "Python 3.8.5 64-bit (conda)"
  },
  "metadata": {
   "interpreter": {
    "hash": "63fd5069d213b44bf678585dea6b12cceca9941eaf7f819626cde1f2670de90d"
   }
  }
 },
 "nbformat": 4,
 "nbformat_minor": 2,
 "cells": [
  {
   "source": [
    "# 인공지능 HW7\n",
    "# 학번: 60191686\n",
    "# 이름: 정성훈\n",
    "\n",
    "# 1\n",
    "\n",
    "# Import library\n",
    "from sklearn.datasets import load_files\n",
    "from sklearn.feature_extraction.text import CountVectorizer\n",
    "from sklearn.metrics import accuracy_score\n",
    "from sklearn.naive_bayes import GaussianNB\n",
    "from nltk.stem import PorterStemmer\n",
    "from nltk.tokenize import word_tokenize\n",
    "import numpy as np\n",
    "import re"
   ],
   "cell_type": "code",
   "metadata": {},
   "execution_count": 1,
   "outputs": []
  },
  {
   "cell_type": "code",
   "execution_count": 2,
   "metadata": {},
   "outputs": [],
   "source": [
    "# 1 - a)\n",
    "\n",
    "# Load Files & Split original train data into data and label\n",
    "reviews_train = load_files(\"./aclImdb/train\")\n",
    "text_train, y_train = reviews_train.data, reviews_train.target\n",
    "\n",
    "# Load Files & Split original test data into data and label\n",
    "reviews_test = load_files(\"./aclImdb/test\")\n",
    "text_test, y_test = reviews_test.data, reviews_test.target"
   ]
  },
  {
   "cell_type": "code",
   "execution_count": 3,
   "metadata": {},
   "outputs": [
    {
     "output_type": "stream",
     "name": "stdout",
     "text": [
      "Test Data <br /> 삭제 전\n b'Julie Andrews plays a German spy who falls in love with an American pilot Rock Hudson, while on an assignment for Germany.<br /><br />The songs are beautiful. The two are well-paired. Julie demonstrates a more temperamental side in this film than the nice girl she normally plays. <br /><br />A half-German, half-English girl who sings beautiful and entertains the troops in WW I, Julie sings some endearing Mancini songs. <br /><br />I loved the film. Some will say it\\'s a \"chick-flick,\" but so what. It\\'s wonderful. <br /><br />Supporting characters are somewhat stereotyped. It may not be up to Rock\\'s performance in Pillow Talk, Magnificent Obsession, or Giant.<br /><br />Blake Edwards shot the film in Ireland and authentic WW I -type planes were used in the film. Scenery for England and France is absolutely gorgeous.'\nTest Data <br /> 삭제 후\n b'Julie Andrews plays a German spy who falls in love with an American pilot Rock Hudson, while on an assignment for Germany.  The songs are beautiful. The two are well-paired. Julie demonstrates a more temperamental side in this film than the nice girl she normally plays.   A half-German, half-English girl who sings beautiful and entertains the troops in WW I, Julie sings some endearing Mancini songs.   I loved the film. Some will say it\\'s a \"chick-flick,\" but so what. It\\'s wonderful.   Supporting characters are somewhat stereotyped. It may not be up to Rock\\'s performance in Pillow Talk, Magnificent Obsession, or Giant.  Blake Edwards shot the film in Ireland and authentic WW I -type planes were used in the film. Scenery for England and France is absolutely gorgeous.'\n"
     ]
    }
   ],
   "source": [
    "# 1 - b)\n",
    "text_train = [doc.replace(b\"<br />\", b\" \") for doc in text_train]\n",
    "\n",
    "print(\"Test Data <br /> 삭제 전\\n\", text_test[4])\n",
    "text_test = [doc.replace(b\"<br />\", b\" \") for doc in text_test]\n",
    "\n",
    "print(\"Test Data <br /> 삭제 후\\n\", text_test[4])\n",
    "# 삭제 후에는 테스트 데이터에 있는 <br />이 공백으로 대체되었다.\n",
    "# 대체됨으로써 특수 기호 < / >들이 제거가 되었고 이는 토크나이저\n",
    "# 함수를 사용할 때 추가적인 차원이 발생하지 않음을 의미한다.\n",
    "# 전체적인 차원이 줄어들었기 때문에 성능이 향상됨을 알 수 있다."
   ]
  },
  {
   "source": [
    "# 1 - c)\n",
    "# PorterStemmer 객체 생성\n",
    "ps = PorterStemmer()\n",
    "\n",
    "# 토크나이저 함수 정의\n",
    "def tokenize(text):\n",
    "    tokens = word_tokenize(text)\n",
    "    stemmed = []\n",
    "    for word in tokens:\n",
    "        stemmed.append(ps.stem(word))\n",
    "    return stemmed\n",
    "\n",
    "# 학습데이터에 대한 BOW 생성 & 불용어 제거\n",
    "vect = CountVectorizer(tokenizer = tokenize, stop_words = \"english\").fit(text_train)\n",
    "\n",
    "# train & test 입력 데이터들을 변환\n",
    "X_train = vect.transform(text_train)\n",
    "X_test = vect.transform(text_test)"
   ],
   "cell_type": "code",
   "metadata": {},
   "execution_count": 4,
   "outputs": [
    {
     "output_type": "stream",
     "name": "stderr",
     "text": [
      "C:\\Users\\ibo70\\anaconda3\\lib\\site-packages\\sklearn\\feature_extraction\\text.py:484: UserWarning: The parameter 'token_pattern' will not be used since 'tokenizer' is not None'\n  warnings.warn(\"The parameter 'token_pattern' will not be used\"\nC:\\Users\\ibo70\\anaconda3\\lib\\site-packages\\sklearn\\feature_extraction\\text.py:383: UserWarning: Your stop_words may be inconsistent with your preprocessing. Tokenizing the stop words generated tokens ['abov', 'afterward', 'alon', 'alreadi', 'alway', 'ani', 'anoth', 'anyon', 'anyth', 'anywher', 'becam', 'becaus', 'becom', 'befor', 'besid', 'cri', 'describ', 'dure', 'els', 'elsewher', 'empti', 'everi', 'everyon', 'everyth', 'everywher', 'fifti', 'formerli', 'forti', 'ha', 'henc', 'hereaft', 'herebi', 'hi', 'howev', 'hundr', 'inde', 'latterli', 'mani', 'meanwhil', 'moreov', 'mostli', 'nobodi', 'noon', 'noth', 'nowher', 'onc', 'onli', 'otherwis', 'ourselv', 'perhap', 'pleas', 'seriou', 'sever', 'sinc', 'sincer', 'sixti', 'someon', 'someth', 'sometim', 'somewher', 'themselv', 'thenc', 'thereaft', 'therebi', 'therefor', 'thi', 'thu', 'togeth', 'twelv', 'twenti', 'veri', 'wa', 'whatev', 'whenc', 'whenev', 'wherea', 'whereaft', 'wherebi', 'wherev', 'whi', 'yourselv'] not in stop_words.\n  warnings.warn('Your stop_words may be inconsistent with '\n"
     ]
    }
   ]
  },
  {
   "cell_type": "code",
   "execution_count": 7,
   "metadata": {},
   "outputs": [
    {
     "output_type": "stream",
     "name": "stdout",
     "text": [
      "정답률 = 0.59\n"
     ]
    }
   ],
   "source": [
    "# 1 - d)\n",
    "\n",
    "# Create a Naive Bayesian Classifier (using Gaussian distribution)\n",
    "model = GaussianNB()\n",
    "\n",
    "# Train the model\n",
    "model.fit(X_train.toarray(), y_train)\n",
    "\n",
    "# Predict the output\n",
    "predicted = model.predict(X_test.toarray())\n",
    "\n",
    "# 정답률 구하기\n",
    "ac_score = accuracy_score(y_test, predicted)\n",
    "print(\"정답률 =\", round(ac_score, 2))"
   ]
  },
  {
   "cell_type": "code",
   "execution_count": null,
   "metadata": {},
   "outputs": [],
   "source": []
  }
 ]
}
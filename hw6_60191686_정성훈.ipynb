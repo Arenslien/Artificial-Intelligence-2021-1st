{
 "metadata": {
  "language_info": {
   "codemirror_mode": {
    "name": "ipython",
    "version": 3
   },
   "file_extension": ".py",
   "mimetype": "text/x-python",
   "name": "python",
   "nbconvert_exporter": "python",
   "pygments_lexer": "ipython3",
   "version": "3.9.2"
  },
  "orig_nbformat": 2,
  "kernelspec": {
   "name": "python392jvsc74a57bd063fd5069d213b44bf678585dea6b12cceca9941eaf7f819626cde1f2670de90d",
   "display_name": "Python 3.9.2 64-bit"
  },
  "metadata": {
   "interpreter": {
    "hash": "63fd5069d213b44bf678585dea6b12cceca9941eaf7f819626cde1f2670de90d"
   }
  }
 },
 "nbformat": 4,
 "nbformat_minor": 2,
 "cells": [
  {
   "cell_type": "code",
   "execution_count": 143,
   "metadata": {},
   "outputs": [
    {
     "output_type": "stream",
     "name": "stdout",
     "text": [
      "Data Shape: (768, 9)\nData Head 20:\n      0    1   2   3    4     5      6   7  8\n0    6  148  72  35    0  33.6  0.627  50  1\n1    1   85  66  29    0  26.6  0.351  31  0\n2    8  183  64   0    0  23.3  0.672  32  1\n3    1   89  66  23   94  28.1  0.167  21  0\n4    0  137  40  35  168  43.1  2.288  33  1\n5    5  116  74   0    0  25.6  0.201  30  0\n6    3   78  50  32   88  31.0  0.248  26  1\n7   10  115   0   0    0  35.3  0.134  29  0\n8    2  197  70  45  543  30.5  0.158  53  1\n9    8  125  96   0    0   0.0  0.232  54  1\n10   4  110  92   0    0  37.6  0.191  30  0\n11  10  168  74   0    0  38.0  0.537  34  1\n12  10  139  80   0    0  27.1  1.441  57  0\n13   1  189  60  23  846  30.1  0.398  59  1\n14   5  166  72  19  175  25.8  0.587  51  1\n15   7  100   0   0    0  30.0  0.484  32  1\n16   0  118  84  47  230  45.8  0.551  31  1\n17   7  107  74   0    0  29.6  0.254  31  1\n18   1  103  30  38   83  43.3  0.183  33  0\n19   1  115  70  30   96  34.6  0.529  32  1\n"
     ]
    }
   ],
   "source": [
    "# Artificial Intelligence Homework Assignment 6\n",
    "# 학번: 60191686\n",
    "# 이름: 정성훈\n",
    "\n",
    "# 1. pima-indians-diabetes.csv 파일을 사용하여 다음에 해당하는 코드를 작성하시오.\n",
    "\n",
    "import pandas as pd\n",
    "import numpy as np\n",
    "\n",
    "# 1 - a) CSV 파일(pima-indians-diabetes.csv)을 DataFrame 형태로 적재하여 읽고, shape와 첫 20 행을 출력하시오.\n",
    "\n",
    "# 데이터 읽기\n",
    "data = pd.read_csv('pima-indians-diabetes.csv', header=None)\n",
    "\n",
    "# Data shape, head 출력\n",
    "print(\"Data Shape:\",data.shape)\n",
    "print(\"Data Head 20:\\n\",data.head(20))"
   ]
  },
  {
   "cell_type": "code",
   "execution_count": 144,
   "metadata": {},
   "outputs": [
    {
     "output_type": "stream",
     "name": "stdout",
     "text": [
      "    Pregnancies  Glucose  BloodPressure  SkinThickness  Insulin   BMI  \\\n0             6    148.0           72.0           35.0      NaN  33.6   \n1             1     85.0           66.0           29.0      NaN  26.6   \n2             8    183.0           64.0            NaN      NaN  23.3   \n3             1     89.0           66.0           23.0     94.0  28.1   \n4             0    137.0           40.0           35.0    168.0  43.1   \n5             5    116.0           74.0            NaN      NaN  25.6   \n6             3     78.0           50.0           32.0     88.0  31.0   \n7            10    115.0            NaN            NaN      NaN  35.3   \n8             2    197.0           70.0           45.0    543.0  30.5   \n9             8    125.0           96.0            NaN      NaN   NaN   \n10            4    110.0           92.0            NaN      NaN  37.6   \n11           10    168.0           74.0            NaN      NaN  38.0   \n12           10    139.0           80.0            NaN      NaN  27.1   \n13            1    189.0           60.0           23.0    846.0  30.1   \n14            5    166.0           72.0           19.0    175.0  25.8   \n15            7    100.0            NaN            NaN      NaN  30.0   \n16            0    118.0           84.0           47.0    230.0  45.8   \n17            7    107.0           74.0            NaN      NaN  29.6   \n18            1    103.0           30.0           38.0     83.0  43.3   \n19            1    115.0           70.0           30.0     96.0  34.6   \n\n    DiabetesPedigreeFunction  Age  Outcome  \n0                      0.627   50        1  \n1                      0.351   31        0  \n2                      0.672   32        1  \n3                      0.167   21        0  \n4                      2.288   33        1  \n5                      0.201   30        0  \n6                      0.248   26        1  \n7                      0.134   29        0  \n8                      0.158   53        1  \n9                      0.232   54        1  \n10                     0.191   30        0  \n11                     0.537   34        1  \n12                     1.441   57        0  \n13                     0.398   59        1  \n14                     0.587   51        1  \n15                     0.484   32        1  \n16                     0.551   31        1  \n17                     0.254   31        1  \n18                     0.183   33        0  \n19                     0.529   32        1  \nPregnancies                   0\nGlucose                       5\nBloodPressure                35\nSkinThickness               227\nInsulin                     374\nBMI                          11\nDiabetesPedigreeFunction      0\nAge                           0\nOutcome                       0\ndtype: int64\n"
     ]
    }
   ],
   "source": [
    "# 1 - b) Column 1 ~ 5까지의 0값을 NaN로 치환하고 첫 20행과 NaN으로 치환된 데이터 셀의 개수를 출력하시오\n",
    "\n",
    "# 데이터 컬럼 명 설정\n",
    "column_names = [\"Pregnancies\", \"Glucose\", \"BloodPressure\", \"SkinThickness\", \"Insulin\", \"BMI\", \"DiabetesPedigreeFunction\", \"Age\", \"Outcome\"]\n",
    "data.columns = column_names\n",
    "\n",
    "# 데이터 컬럼명을 .columns.values를 통해 추출할 수도 있음.\n",
    "columns = data.columns.values\n",
    "data[columns[1:6]] = data[columns[1:6]].replace(0, np.NaN)\n",
    "\n",
    "# 데이터 출력 & NaN 개수 출력\n",
    "print(data.head(20))\n",
    "print(data.isnull().sum())"
   ]
  },
  {
   "cell_type": "code",
   "execution_count": 145,
   "metadata": {},
   "outputs": [
    {
     "output_type": "stream",
     "name": "stdout",
     "text": [
      "DataFrame: \n\n     Pregnancies  Glucose  BloodPressure  SkinThickness  Insulin  BMI  \\\n4              0       13              0              6        6   13   \n16             0        9             10              9        7   16   \n45             0       16              4              7        9   12   \n57             0        2             12             11        4   17   \n58             0       14              9             12        9   10   \n59             0        5              2              8        5   11   \n66             0        6             12              4        9    7   \n78             0       12             14             12        9   14   \n83             0        3              3              3        9    1   \n102            0       10             13             12        9    0   \n109            0        1             11              1        0    9   \n120            0       15              7             10        3   18   \n124            0        7              7             12        9    8   \n129            0        5             10             12        9    2   \n136            0        2              5              2        1    4   \n137            0        0              1              1        2    3   \n138            0       11              8             12        9    5   \n145            0        4              6              0        9   19   \n162            0        8              8              5        8   15   \n164            0       12             12             12        9    6   \n\n     DiabetesPedigreeFunction  Age  Outcome  \n4                          19   10        1  \n16                          8    8        1  \n45                         18    4        1  \n57                         16    8        0  \n58                         17   12        0  \n59                          1    1        0  \n66                         15   11        1  \n78                          5    5        1  \n83                          2    1        0  \n102                         4    0        0  \n109                         3    3        1  \n120                        14    4        1  \n124                         6    2        1  \n129                        12   13        1  \n136                        10    0        0  \n137                         7    1        0  \n138                        11    7        0  \n145                         9    0        0  \n162                         0    6        0  \n164                        13    9        1  \n\nsparse matrix: \n\n  (0, 0)\t1.0\n  (0, 14)\t1.0\n  (0, 18)\t1.0\n  (0, 39)\t1.0\n  (0, 52)\t1.0\n  (0, 69)\t1.0\n  (0, 95)\t1.0\n  (0, 106)\t1.0\n  (0, 111)\t1.0\n  (1, 0)\t1.0\n  (1, 10)\t1.0\n  (1, 28)\t1.0\n  (1, 42)\t1.0\n  (1, 53)\t1.0\n  (1, 72)\t1.0\n  (1, 84)\t1.0\n  (1, 104)\t1.0\n  (1, 111)\t1.0\n  (2, 0)\t1.0\n  (2, 17)\t1.0\n  (2, 22)\t1.0\n  (2, 40)\t1.0\n  (2, 55)\t1.0\n  (2, 68)\t1.0\n  (2, 94)\t1.0\n  :\t:\n  (17, 24)\t1.0\n  (17, 33)\t1.0\n  (17, 55)\t1.0\n  (17, 75)\t1.0\n  (17, 85)\t1.0\n  (17, 96)\t1.0\n  (17, 110)\t1.0\n  (18, 0)\t1.0\n  (18, 9)\t1.0\n  (18, 26)\t1.0\n  (18, 38)\t1.0\n  (18, 54)\t1.0\n  (18, 71)\t1.0\n  (18, 76)\t1.0\n  (18, 102)\t1.0\n  (18, 110)\t1.0\n  (19, 0)\t1.0\n  (19, 13)\t1.0\n  (19, 30)\t1.0\n  (19, 45)\t1.0\n  (19, 55)\t1.0\n  (19, 62)\t1.0\n  (19, 89)\t1.0\n  (19, 105)\t1.0\n  (19, 111)\t1.0\n\nnumpy array: \n\n[[1. 0. 0. ... 0. 0. 1.]\n [1. 0. 0. ... 0. 0. 1.]\n [1. 0. 0. ... 0. 0. 1.]\n ...\n [1. 0. 0. ... 0. 1. 0.]\n [1. 0. 0. ... 0. 1. 0.]\n [1. 0. 0. ... 0. 0. 1.]]\nDataFrame: \n\n    Pregnancies  Glucose  BloodPressure  SkinThickness  Insulin  BMI  \\\n1             0        4              6              7       11    7   \n3             0        5              6              5        5    9   \n8             1       17              8             12        9   12   \n13            0       16              5              5       10   11   \n18            0       11              0             10        3   18   \n19            0       13              8              8        6   15   \n27            0        8              6              3        8    3   \n38            1        6              7             11       11   16   \n46            0       15              3             13       11   10   \n47            1        0              8              6       11    8   \n50            0       11             10              1        2    0   \n51            0       10              2              3        0    4   \n55            0        1              2              0       11    2   \n60            1        3             12             13       11   19   \n63            1       14              4              9        7    6   \n67            1       12             11             13       11   17   \n68            0        7              6              2        1    1   \n70            1        9              6              4        4   14   \n74            0        2              9              8       11   13   \n75            0       18              1              4       11    5   \n\n    DiabetesPedigreeFunction  Age  Outcome  \n1                          7    8        0  \n3                          2    0        0  \n8                          1   11        1  \n13                         9   13        1  \n18                         3   10        0  \n19                        14    9        1  \n27                        10    1        0  \n38                        12    5        1  \n46                        15    7        0  \n47                        16    1        0  \n50                        11    1        0  \n51                        13    4        0  \n55                         4    0        0  \n60                         5    0        0  \n63                        17    2        0  \n67                        18   12        0  \n68                         6    3        0  \n70                        19    6        1  \n74                         8    1        0  \n75                         0    1        0  \n\nsparse matrix: \n\n  (0, 0)\t1.0\n  (0, 6)\t1.0\n  (0, 27)\t1.0\n  (0, 41)\t1.0\n  (0, 59)\t1.0\n  (0, 67)\t1.0\n  (0, 87)\t1.0\n  (0, 108)\t1.0\n  (0, 114)\t1.0\n  (1, 0)\t1.0\n  (1, 7)\t1.0\n  (1, 27)\t1.0\n  (1, 39)\t1.0\n  (1, 53)\t1.0\n  (1, 69)\t1.0\n  (1, 82)\t1.0\n  (1, 100)\t1.0\n  (1, 114)\t1.0\n  (2, 1)\t1.0\n  (2, 19)\t1.0\n  (2, 29)\t1.0\n  (2, 46)\t1.0\n  (2, 57)\t1.0\n  (2, 72)\t1.0\n  (2, 81)\t1.0\n  :\t:\n  (17, 27)\t1.0\n  (17, 38)\t1.0\n  (17, 52)\t1.0\n  (17, 74)\t1.0\n  (17, 99)\t1.0\n  (17, 106)\t1.0\n  (17, 115)\t1.0\n  (18, 0)\t1.0\n  (18, 4)\t1.0\n  (18, 30)\t1.0\n  (18, 42)\t1.0\n  (18, 59)\t1.0\n  (18, 73)\t1.0\n  (18, 88)\t1.0\n  (18, 101)\t1.0\n  (18, 114)\t1.0\n  (19, 0)\t1.0\n  (19, 20)\t1.0\n  (19, 22)\t1.0\n  (19, 38)\t1.0\n  (19, 59)\t1.0\n  (19, 65)\t1.0\n  (19, 80)\t1.0\n  (19, 101)\t1.0\n  (19, 114)\t1.0\n\nnumpy array: \n\n[[1. 0. 0. ... 0. 1. 0.]\n [1. 0. 0. ... 0. 1. 0.]\n [0. 1. 0. ... 0. 0. 1.]\n ...\n [0. 1. 0. ... 0. 0. 1.]\n [1. 0. 0. ... 0. 1. 0.]\n [1. 0. 0. ... 0. 1. 0.]]\nDataFrame: \n\n    Pregnancies  Glucose  BloodPressure  SkinThickness  Insulin  BMI  \\\n0             3       14              3              4        6   10   \n2             5       17              1              6        6    1   \n5             2        6              4              6        6    2   \n6             0        0              0              2        0    8   \n7             7        5             14              6        6   11   \n9             5        8             13              6        6   19   \n10            1        4             11              6        6   14   \n11            7       16              4              6        6   15   \n12            7       10              6              6        6    4   \n14            2       15              3              0        4    3   \n15            4        2             14              6        6    7   \n17            4        3              4              6        6    6   \n20            0        9              9              5        5   16   \n21            5        1              8              6        6   12   \n22            4       18             10              6        6   18   \n23            6        7              6              4        6    5   \n24            8       11             12              3        3   13   \n25            7        8              2              1        2    9   \n26            4       13              5              6        6   17   \n28            9       12              7              0        1    0   \n\n    DiabetesPedigreeFunction  Age  Outcome  \n0                         15    9        1  \n2                         16    5        1  \n5                          2    3        0  \n6                          6    0        1  \n7                          0    2        0  \n9                          4   11        1  \n10                         1    3        0  \n11                        13    6        1  \n12                        18   12        0  \n14                        14   10        1  \n15                        12    5        1  \n17                         7    4        1  \n20                        17    1        0  \n21                        10    9        0  \n22                        11    7        1  \n23                         9    2        1  \n24                         7   10        1  \n25                         3    7        1  \n26                         8    8        1  \n28                         5   12        0  \n\nsparse matrix: \n\n  (0, 3)\t1.0\n  (0, 24)\t1.0\n  (0, 32)\t1.0\n  (0, 48)\t1.0\n  (0, 57)\t1.0\n  (0, 68)\t1.0\n  (0, 93)\t1.0\n  (0, 106)\t1.0\n  (0, 111)\t1.0\n  (1, 5)\t1.0\n  (1, 27)\t1.0\n  (1, 30)\t1.0\n  (1, 50)\t1.0\n  (1, 57)\t1.0\n  (1, 59)\t1.0\n  (1, 94)\t1.0\n  (1, 102)\t1.0\n  (1, 111)\t1.0\n  (2, 2)\t1.0\n  (2, 16)\t1.0\n  (2, 33)\t1.0\n  (2, 50)\t1.0\n  (2, 57)\t1.0\n  (2, 60)\t1.0\n  (2, 80)\t1.0\n  :\t:\n  (17, 31)\t1.0\n  (17, 45)\t1.0\n  (17, 53)\t1.0\n  (17, 67)\t1.0\n  (17, 81)\t1.0\n  (17, 104)\t1.0\n  (17, 111)\t1.0\n  (18, 4)\t1.0\n  (18, 23)\t1.0\n  (18, 34)\t1.0\n  (18, 50)\t1.0\n  (18, 57)\t1.0\n  (18, 75)\t1.0\n  (18, 86)\t1.0\n  (18, 105)\t1.0\n  (18, 111)\t1.0\n  (19, 9)\t1.0\n  (19, 22)\t1.0\n  (19, 36)\t1.0\n  (19, 44)\t1.0\n  (19, 52)\t1.0\n  (19, 58)\t1.0\n  (19, 83)\t1.0\n  (19, 109)\t1.0\n  (19, 110)\t1.0\n\nnumpy array: \n\n[[0. 0. 0. ... 0. 0. 1.]\n [0. 0. 0. ... 0. 0. 1.]\n [0. 0. 1. ... 0. 1. 0.]\n ...\n [0. 0. 0. ... 0. 0. 1.]\n [0. 0. 0. ... 0. 0. 1.]\n [0. 0. 0. ... 1. 1. 0.]]\n"
     ]
    }
   ],
   "source": [
    "# 1 - c) Column 0(임신 횟수)을 0회, 1 ~ 3회, 3회 이상의 3개 구간으로 나누고 one-hot encoding을 수행한 후, 중간 20행을 sparse matrix, numpy array, DataFrame 형태로 각각 출력하시오.\n",
    "from sklearn.preprocessing import OneHotEncoder\n",
    "from sklearn.preprocessing import LabelEncoder\n",
    "\n",
    "# 라벨인코더 & 원 핫 인코더\n",
    "le = LabelEncoder()\n",
    "encoder = OneHotEncoder()\n",
    "\n",
    "# 횟수 0회에 해당되는 column 추출\n",
    "condition1 = data[\"Pregnancies\"] == 0\n",
    "section1 = data[condition1].head(20)\n",
    "\n",
    "# 데이터 출력\n",
    "x = section1.apply(le.fit_transform)\n",
    "print(\"DataFrame: \\n\")\n",
    "print(x)\n",
    "print()\n",
    "\n",
    "x = encoder.fit_transform(x)\n",
    "print(\"sparse matrix: \\n\")\n",
    "print(x)\n",
    "print()\n",
    "\n",
    "x = x.toarray()\n",
    "print(\"numpy array: \\n\")\n",
    "print(x)\n",
    "\n",
    "\n",
    "# 횟수 1 - 2회에 해당되는 column 추출\n",
    "condition2_1 = 1 <= data[\"Pregnancies\"]\n",
    "condition2_2 = data[\"Pregnancies\"] < 3\n",
    "section2 = data[condition2_1 & condition2_2].head(20)\n",
    "\n",
    "# 데이터 출력\n",
    "x = section2.apply(le.fit_transform)\n",
    "print(\"DataFrame: \\n\")\n",
    "print(x)\n",
    "print()\n",
    "\n",
    "x = encoder.fit_transform(x)\n",
    "print(\"sparse matrix: \\n\")\n",
    "print(x)\n",
    "print()\n",
    "\n",
    "x = x.toarray()\n",
    "print(\"numpy array: \\n\")\n",
    "print(x)\n",
    "\n",
    "# 횟수 3회 이상에 해당되는 column 추출\n",
    "condition3 = data[\"Pregnancies\"] >= 3\n",
    "section3 = data[condition3].head(20)\n",
    "\n",
    "# 데이터 출력\n",
    "x = section3.apply(le.fit_transform)\n",
    "print(\"DataFrame: \\n\")\n",
    "print(x)\n",
    "print()\n",
    "\n",
    "x = encoder.fit_transform(x)\n",
    "print(\"sparse matrix: \\n\")\n",
    "print(x)\n",
    "print()\n",
    "\n",
    "x = x.toarray()\n",
    "print(\"numpy array: \\n\")\n",
    "print(x)\n",
    "\n",
    "\n"
   ]
  },
  {
   "cell_type": "code",
   "execution_count": 146,
   "metadata": {},
   "outputs": [
    {
     "output_type": "stream",
     "name": "stdout",
     "text": [
      "결측치 삭제 전 행 개수: 768\n결측치 삭제 후 행 개수: 392\n"
     ]
    }
   ],
   "source": [
    "# 1 - d) 결측치를 포함하는 행을 모두 삭제한 후, 삭제 전/후 행과 열의 개수를 출력하시오.\n",
    "\n",
    "print(\"결측치 삭제 전 행 개수:\", len(data))\n",
    "\n",
    "data_d = data.dropna()\n",
    "print(\"결측치 삭제 후 행 개수:\", len(data_d))"
   ]
  },
  {
   "cell_type": "code",
   "execution_count": 147,
   "metadata": {},
   "outputs": [
    {
     "output_type": "stream",
     "name": "stdout",
     "text": [
      "결측치 치환한 행 개수: 392\n"
     ]
    }
   ],
   "source": [
    "# 1 - e) 결측치를 각 column별 평균으로 대체하고, 치환이 발생한 행을 선별적으로 출력하고 치환이 발생한 행의 개수를 출력하시오.\n",
    "\n",
    "# NaN 값이 있는 컬럼에 대해서 NaN값을 치환 함\n",
    "for i in range(9):\n",
    "    cnt_nan = data[column_names[i]].isnull().sum()\n",
    "    if(cnt_nan != 0):\n",
    "        mean = data_d[column_names[i]].mean()\n",
    "        data[column_names[i]] = data[column_names[i]].replace(np.NaN, mean)\n",
    "\n",
    "# 결과 출력\n",
    "print(\"결측치 치환한 행 개수:\", len(data_d))"
   ]
  },
  {
   "cell_type": "code",
   "execution_count": 148,
   "metadata": {},
   "outputs": [
    {
     "output_type": "stream",
     "name": "stdout",
     "text": [
      "Train Dataset:\n      Pregnancies  Glucose  BloodPressure  SkinThickness     Insulin   BMI  \\\n644            3    103.0           72.0      30.000000  152.000000  27.6   \n744           13    153.0           88.0      37.000000  140.000000  40.6   \n456            1    135.0           54.0      29.145408  156.056122  26.7   \n441            2     83.0           66.0      23.000000   50.000000  32.2   \n305            2    120.0           76.0      37.000000  105.000000  39.7   \n..           ...      ...            ...            ...         ...   ...   \n175            8    179.0           72.0      42.000000  130.000000  32.7   \n130            4    173.0           70.0      14.000000  168.000000  29.7   \n125            1     88.0           30.0      42.000000   99.000000  55.0   \n664            6    115.0           60.0      39.000000  156.056122  33.7   \n317            3    182.0           74.0      29.145408  156.056122  30.5   \n\n     DiabetesPedigreeFunction  Age  Outcome  \n644                     0.730   27        0  \n744                     1.174   39        0  \n456                     0.687   62        0  \n441                     0.497   22        0  \n305                     0.215   29        0  \n..                        ...  ...      ...  \n175                     0.719   36        1  \n130                     0.361   33        1  \n125                     0.496   26        1  \n664                     0.245   40        1  \n317                     0.345   29        1  \n\n[100 rows x 9 columns]\nTest Dataset:\n      Pregnancies  Glucose  BloodPressure  SkinThickness     Insulin   BMI  \\\n336            0    117.0      70.663265      29.145408  156.056122  33.8   \n573            2     98.0      60.000000      17.000000  120.000000  34.7   \n566            1     99.0      72.000000      30.000000   18.000000  38.6   \n447            0     95.0      80.000000      45.000000   92.000000  36.5   \n656            2    101.0      58.000000      35.000000   90.000000  21.8   \n..           ...      ...            ...            ...         ...   ...   \n569            0    121.0      66.000000      30.000000  165.000000  34.3   \n303            5    115.0      98.000000      29.145408  156.056122  52.9   \n676            9    156.0      86.000000      29.145408  156.056122  24.8   \n26             7    147.0      76.000000      29.145408  156.056122  39.4   \n659            3     80.0      82.000000      31.000000   70.000000  34.2   \n\n     DiabetesPedigreeFunction  Age  Outcome  \n336                     0.932   44        0  \n573                     0.198   22        0  \n566                     0.412   21        0  \n447                     0.330   26        0  \n656                     0.155   22        0  \n..                        ...  ...      ...  \n569                     0.203   33        1  \n303                     0.209   28        1  \n676                     0.230   53        1  \n26                      0.257   43        1  \n659                     1.292   27        1  \n\n[100 rows x 9 columns]\n"
     ]
    }
   ],
   "source": [
    "# 1 - f) CSV 파일(pima-indians-diabetes.csv)을 train dataset 100건과 test dataset 100건을 선택하여 각각 별도의 csv 파일의 형태로 나누어 저장하되, 샘플을 선택하는 방식은 SRSWOR(simple random sample without replacement)을 취하고 positive와 negative 비율은 각각 5:5가 되도록 구성하시오.\n",
    "\n",
    "# 9번째 컬럼의 값이 0, 1인지에 따라 필터링\n",
    "condition_pos = data[column_names[8]] == 1\n",
    "condition_neg = data[column_names[8]] == 0\n",
    "data_positive = data[condition_pos]\n",
    "data_negative = data[condition_neg]\n",
    "\n",
    "# 각각의 데이터에 대해서 샘플링 - Train Data\n",
    "train_pos = data_positive.sample(50, replace=True)\n",
    "train_neg = data_negative.sample(50, replace=True)\n",
    "train_data = pd.concat([train_neg, train_pos])\n",
    "\n",
    "# csv파일로 저장\n",
    "train_data.to_csv(\"./train.csv\")\n",
    "print(\"Train Dataset:\\n\", train_data)\n",
    "\n",
    "# 각각의 데이터에 대해서 샘플링 - Test Data\n",
    "test_pos = data_positive.sample(50)\n",
    "test_neg = data_negative.sample(50)\n",
    "test_data = pd.concat([test_neg, test_pos])\n",
    "\n",
    "# csv파일로 저장\n",
    "train_data.to_csv(\"./test.csv\")\n",
    "print(\"Test Dataset:\\n\", test_data)\n",
    "\n"
   ]
  }
 ]
}